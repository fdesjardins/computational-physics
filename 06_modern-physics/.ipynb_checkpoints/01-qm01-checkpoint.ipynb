{
 "cells": [
  {
   "cell_type": "markdown",
   "metadata": {},
   "source": [
    "Given the Larmor formula:\n",
    "    \n",
    "- $ \\frac{dE}{dt} = -\\frac{2}{3} \\frac{e^2 a^2}{c^3} $\n",
    "\n",
    "where $ e $ is the electron charge and $ a $ is the magnitude of the electron acceleration.\n",
    "\n",
    "- $ V = -\\frac{e^2}{r} $ is the electron potential energy\n",
    "- $ \\frac{e^2}{r^2} $ is the magnitude of the force of attraction"
   ]
  },
  {
   "cell_type": "code",
   "execution_count": 7,
   "metadata": {},
   "outputs": [
    {
     "name": "stdout",
     "output_type": "stream",
     "text": [
      "-4.839319470699432e-28 9.14805192948853e-18\n"
     ]
    }
   ],
   "source": [
    "# electron charge, coulombs\n",
    "e = -1.6e-19\n",
    "# electron mass, kg\n",
    "m = 9.11e-31\n",
    "# speed of light, m/s\n",
    "c = 2.99e8\n",
    "# bohr radius, m\n",
    "r = 5.29e-11\n",
    "\n",
    "# e- potential energy, coulombs^2/m\n",
    "V = -e**2 / r\n",
    "\n",
    "# magnitude of force of attraction, coulombs^2/m^2\n",
    "f_mag = e**2 / r**2\n",
    "\n",
    "KE = 1/2.0 * m * \n",
    "\n",
    "print(V, f_mag)"
   ]
  },
  {
   "cell_type": "code",
   "execution_count": null,
   "metadata": {},
   "outputs": [],
   "source": []
  }
 ],
 "metadata": {
  "kernelspec": {
   "display_name": "Python 3",
   "language": "python",
   "name": "python3"
  },
  "language_info": {
   "codemirror_mode": {
    "name": "ipython",
    "version": 3
   },
   "file_extension": ".py",
   "mimetype": "text/x-python",
   "name": "python",
   "nbconvert_exporter": "python",
   "pygments_lexer": "ipython3",
   "version": "3.7.1"
  }
 },
 "nbformat": 4,
 "nbformat_minor": 2
}
