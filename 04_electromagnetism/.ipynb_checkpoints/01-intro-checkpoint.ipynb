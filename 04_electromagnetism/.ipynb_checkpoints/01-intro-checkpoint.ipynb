{
 "cells": [
  {
   "cell_type": "code",
   "execution_count": 1,
   "metadata": {},
   "outputs": [
    {
     "name": "stdout",
     "output_type": "stream",
     "text": [
      "/home/forrest2/Workspace/github/fdesjardins/computational-physics\n"
     ]
    }
   ],
   "source": [
    "cd .."
   ]
  },
  {
   "cell_type": "code",
   "execution_count": 2,
   "metadata": {},
   "outputs": [],
   "source": [
    "import numpy as np\n",
    "import seaborn as sns\n",
    "import matplotlib as mpl\n",
    "import matplotlib.pyplot as plt\n",
    "import matplotlib.ticker as tck\n",
    "from matplotlib import animation, rc\n",
    "from IPython.display import HTML\n",
    "from lib.utils import *\n",
    "from lib.mp_render import *"
   ]
  },
  {
   "cell_type": "code",
   "execution_count": 3,
   "metadata": {},
   "outputs": [
    {
     "name": "stdout",
     "output_type": "stream",
     "text": [
      "/home/forrest2/Workspace/github/fdesjardins/computational-physics/04_electromagnetism\n"
     ]
    }
   ],
   "source": [
    "cd 04_electromagnetism"
   ]
  },
  {
   "cell_type": "markdown",
   "metadata": {},
   "source": [
    "- $ \\vec{F} = q \\vec{E} $\n",
    "- where:\n",
    "  - $ \\vec{F} $ is the force vector\n",
    "  - $ q $ is the charge in coulombs\n",
    "  - $ \\vec{E} $ is the electric field strength"
   ]
  },
  {
   "cell_type": "code",
   "execution_count": 22,
   "metadata": {},
   "outputs": [
    {
     "name": "stdout",
     "output_type": "stream",
     "text": [
      "[0.000]: initializing figure...\n",
      "[0.021]: running computations...\n",
      "[0.151]: drawing frames...\n"
     ]
    },
    {
     "name": "stderr",
     "output_type": "stream",
     "text": [
      "Traceback (most recent call last):\n",
      "  File \"/home/forrest2/Workspace/anaconda3/lib/python3.7/site-packages/matplotlib/cbook/__init__.py\", line 215, in process\n",
      "    func(*args, **kwargs)\n",
      "  File \"/home/forrest2/Workspace/anaconda3/lib/python3.7/site-packages/matplotlib/animation.py\", line 999, in _start\n",
      "    self._init_draw()\n",
      "  File \"/home/forrest2/Workspace/anaconda3/lib/python3.7/site-packages/matplotlib/animation.py\", line 1536, in _init_draw\n",
      "    artist.set_visible(False)\n",
      "AttributeError: 'tuple' object has no attribute 'set_visible'\n"
     ]
    },
    {
     "name": "stdout",
     "output_type": "stream",
     "text": [
      "[23.700]: rendering final frames...\n",
      "[57.742]: piping frames to ffmpeg...\n",
      "[59.909]: closing pipe...\n",
      "[60.013]: done\n"
     ]
    }
   ],
   "source": [
    "np.random.seed()\n",
    "\n",
    "def animate_electric_force(len_sec=5):\n",
    "    figure, ax =  plt.subplots()\n",
    "    figure.set_size_inches(5, 5)\n",
    "    figure.set_dpi(160)\n",
    "    \n",
    "    fps = 60\n",
    "    t_0 = 0\n",
    "    dt = 1.0 / fps\n",
    "    \n",
    "    particle_types = [\n",
    "        # electron\n",
    "        [\n",
    "            # charge in coulombs\n",
    "            -1.602e-19,\n",
    "            # mass\n",
    "             9.109e-31\n",
    "        ],\n",
    "        # proton\n",
    "        [\n",
    "            1.602e-19,\n",
    "            1.673e-27\n",
    "        ]\n",
    "    ]\n",
    "    \n",
    "    # list of particles we're tracking\n",
    "    particles = []\n",
    "    \n",
    "    # grid for visualizing electric force field\n",
    "    meshgrid = np.meshgrid(\n",
    "        np.arange(-12, 12, 1),\n",
    "        np.arange(-12, 12, 1)\n",
    "    )\n",
    "    X,Y = meshgrid\n",
    "    \n",
    "    # electric field strength\n",
    "    E_vec = np.array([1.5e-8, -1.5e-8])\n",
    "    \n",
    "    def shoot_particle():\n",
    "        pt = particle_types[np.random.choice(np.arange(0, len(particle_types), 1))]\n",
    "        particles.append([\n",
    "            # initial pos\n",
    "            np.array([-10, -10]),\n",
    "            # initial velocity\n",
    "            np.array([35, 35]) + (np.random.rand() * 5 - 10),\n",
    "            # initial charge\n",
    "            pt[0],\n",
    "            pt[1]\n",
    "        ])\n",
    "    \n",
    "    def draw_labels(t):\n",
    "        t_label = f\"$ t = {t:.2f}s $\"\n",
    "        return (\n",
    "            ax.annotate(t_label, xy=(5.0, -7.5))\n",
    "        )\n",
    "    \n",
    "    def draw_mesh(ax):\n",
    "        return ax.quiver(X, Y, -E_vec[0], -E_vec[1], alpha=0.25)\n",
    "    \n",
    "    def draw(res):\n",
    "        t_i, particles_i = res\n",
    "        artists = []\n",
    "        for p in particles_i:\n",
    "            x,y = p[0]\n",
    "            \n",
    "            if p[2] < 0:\n",
    "                artists.append(draw_particle(ax, p[0], 0.05))\n",
    "                artists.append(ax.annotate(f\"e-\", xy=(x + 0.2, y + 0.2)))\n",
    "            else:\n",
    "                artists.append(draw_particle(ax, p[0], 0.2, color='r'))\n",
    "                artists.append(ax.annotate(f\"p+\", xy=(x + 0.2, y + 0.2)))\n",
    "            \n",
    "        return (\n",
    "            artists,\n",
    "            draw_labels(t_i),\n",
    "            draw_mesh(ax)\n",
    "        )\n",
    "    \n",
    "    def calc(i):\n",
    "        nonlocal particles\n",
    "        \n",
    "        t_i = (i * (1000/fps) / 1000)\n",
    "        particles_i = []\n",
    "        \n",
    "        if np.random.rand() > 0.8:\n",
    "            shoot_particle()\n",
    "        \n",
    "        for p in particles:\n",
    "            # electric force vector\n",
    "            F = p[2] * E_vec\n",
    "            a_i = F / p[3] * dt\n",
    "            v_i = p[1] + a_i * dt\n",
    "            pos_i = p[0] + v_i * dt\n",
    "            particles_i.append([pos_i, v_i, p[2], p[3]])\n",
    "            \n",
    "        particles = particles_i\n",
    "        \n",
    "        return (t_i, particles)\n",
    "    \n",
    "    def update(i):\n",
    "        ax.clear()\n",
    "        ax.grid(True)\n",
    "        ax.set_ylim(-10, 10)\n",
    "        ax.set_xlim(-10, 10)\n",
    "        ax.set_title('Electric Force') #  $ \\vec{F} = q \\vec{E} $\n",
    "        \n",
    "    mp_render(figure, ax, calc, draw=draw, len_sec=len_sec,\n",
    "              fps=fps, update=update, pool_size=1)\n",
    "    plt.close(figure)\n",
    "    \n",
    "animate_electric_force(6)"
   ]
  },
  {
   "cell_type": "markdown",
   "metadata": {},
   "source": [
    "<video width=\"600px\" controls src=\"movie.mp4\" />"
   ]
  },
  {
   "cell_type": "code",
   "execution_count": null,
   "metadata": {},
   "outputs": [],
   "source": []
  }
 ],
 "metadata": {
  "kernelspec": {
   "display_name": "Python 3",
   "language": "python",
   "name": "python3"
  },
  "language_info": {
   "codemirror_mode": {
    "name": "ipython",
    "version": 3
   },
   "file_extension": ".py",
   "mimetype": "text/x-python",
   "name": "python",
   "nbconvert_exporter": "python",
   "pygments_lexer": "ipython3",
   "version": "3.7.1"
  }
 },
 "nbformat": 4,
 "nbformat_minor": 2
}
