{
 "cells": [
  {
   "cell_type": "markdown",
   "metadata": {},
   "source": [
    "## Intro to Waves\n",
    "\n",
    "- $ \\lambda = \\frac{v}{f} $\n",
    "- where:\n",
    "    - $ \\lambda $ is the wavelength\n",
    "    - $ v $ is the wave speed\n",
    "    - $ f $ is the frequency\n",
    "    \n",
    "- harmonics\n",
    "    - $ \\lambda_{n} = \\frac{2L}{n} $"
   ]
  },
  {
   "cell_type": "code",
   "execution_count": 1,
   "metadata": {
    "scrolled": true
   },
   "outputs": [],
   "source": [
    "%matplotlib inline\n",
    "\n",
    "import numpy as np\n",
    "import seaborn as sns\n",
    "import matplotlib as mpl\n",
    "import matplotlib.pyplot as plt\n",
    "import matplotlib.ticker as tck\n",
    "from matplotlib import animation, rc\n",
    "from IPython.display import HTML\n",
    "\n",
    "%config InlineBackend.figure_format = 'retina'"
   ]
  },
  {
   "cell_type": "code",
   "execution_count": null,
   "metadata": {
    "scrolled": false
   },
   "outputs": [],
   "source": [
    "def animate_wave(duration_sec=5):\n",
    "    figure, ax =  plt.subplots()\n",
    "    figure.set_size_inches(12, 4)\n",
    "    \n",
    "    interval = 25\n",
    "    \n",
    "    t_0 = 0\n",
    "    \n",
    "    def draw_wave(ax, xs, ys):\n",
    "        return ax.plot(xs, ys)\n",
    "    \n",
    "    def setup_axes(ax):\n",
    "        ax.clear()\n",
    "        ax.set_title('Basic Wave')\n",
    "        ax.grid(True)\n",
    "        ax.set_ylabel('Amplitude')\n",
    "        ax.set_xlabel('Time')\n",
    "        ax.xaxis.set_major_formatter(tck.FormatStrFormatter('%g $\\pi$'))\n",
    "        \n",
    "    def init():\n",
    "        setup_axes(ax)\n",
    "        # times (x-axis)\n",
    "        xs = np.arange(0 - 5, 10 - 5, 0.1)\n",
    "        # amplitudes\n",
    "        ys = np.sin(xs)\n",
    "        \n",
    "        return draw_wave(ax, xs, ys)\n",
    "    \n",
    "    def animate(i):\n",
    "        setup_axes(ax)\n",
    "        \n",
    "        t = t_0 + (i * interval / 1000)\n",
    "        # times (x-axis)\n",
    "        xs = np.arange(t - 5, t + 10 - 5, 0.1)\n",
    "        # amplitudes\n",
    "        ys = np.sin(xs)\n",
    "        \n",
    "        return draw_wave(ax, xs/np.pi, ys)\n",
    "        \n",
    "    anim = animation.FuncAnimation(figure, animate, init_func=init,\n",
    "                                   frames=duration_sec * (int)(1e3 / interval) + 1,\n",
    "                                   interval=interval,\n",
    "                                   blit=True)\n",
    "    rc('animation', html='html5')\n",
    "    HTML(anim.to_html5_video())\n",
    "    return anim\n",
    "\n",
    "animate_wave(6)"
   ]
  },
  {
   "cell_type": "code",
   "execution_count": null,
   "metadata": {
    "scrolled": true
   },
   "outputs": [],
   "source": [
    "def animate_wave(duration_sec=5):\n",
    "    figure, ax =  plt.subplots()\n",
    "    figure.set_size_inches(12, 4)\n",
    "    \n",
    "    interval = 25\n",
    "    \n",
    "    t_0 = 0\n",
    "    \n",
    "    A = 0.5\n",
    "    angular_frequency = 2\n",
    "    wavelength = 0.5\n",
    "    \n",
    "    xs = np.arange(0, 2.01, 0.01)\n",
    "    \n",
    "    def draw_wave(ax, xs, ys):\n",
    "        return ax.plot(xs, ys)\n",
    "    \n",
    "    def setup_axes(ax):\n",
    "        ax.clear()\n",
    "        ax.set_title('Standing Wave')\n",
    "        ax.grid(True)\n",
    "        ax.set_ylabel('Amplitude')\n",
    "        ax.xaxis.set_major_formatter(tck.FormatStrFormatter('%g $\\pi$'))\n",
    "        ax.set_ylim(-1, 1)\n",
    "        \n",
    "    def init():\n",
    "        setup_axes(ax)\n",
    "        ys = 2 * 1 * np.sin((2 * np.pi * xs) / wavelength) * np.cos(angular_frequency * t_0)\n",
    "        return draw_wave(ax, xs, ys)\n",
    "    \n",
    "    def animate(i):\n",
    "        setup_axes(ax)\n",
    "        t = t_0 + (i * interval / 1000)\n",
    "        ys = 2 * A * np.sin((2 * np.pi * xs) / wavelength) * np.cos(angular_frequency * t)\n",
    "        return draw_wave(ax, xs, ys)\n",
    "        \n",
    "    anim = animation.FuncAnimation(figure, animate, init_func=init,\n",
    "                                   frames=duration_sec * (int)(1e3 / interval) + 1,\n",
    "                                   interval=interval,\n",
    "                                   blit=True)\n",
    "    rc('animation', html='html5')\n",
    "    HTML(anim.to_html5_video())\n",
    "    return anim\n",
    "\n",
    "animate_wave(6)"
   ]
  },
  {
   "cell_type": "code",
   "execution_count": null,
   "metadata": {},
   "outputs": [],
   "source": [
    "from mpl_toolkits.mplot3d import Axes3D\n",
    "from matplotlib import cm\n",
    "\n",
    "def animate_wave(duration_sec=5):\n",
    "    figure =  plt.figure()\n",
    "    ax = Axes3D(figure)\n",
    "    \n",
    "    interval = 50\n",
    "    \n",
    "    t_0 = 0\n",
    "    \n",
    "    def setup_axes(ax):\n",
    "        ax.clear()\n",
    "        ax.set_title('3D Wave')\n",
    "        ax.grid(True)\n",
    "        ax.set_zlabel('Amplitude')\n",
    "        ax.xaxis.set_major_formatter(tck.FormatStrFormatter('%g $\\pi$'))\n",
    "        ax.yaxis.set_major_formatter(tck.FormatStrFormatter('%g $\\pi$'))\n",
    "        ax.set_zlim(-1, 4)\n",
    "        \n",
    "    def init():\n",
    "        setup_axes(ax)\n",
    "        X = np.arange(-5, 5, 0.25)\n",
    "        Y = np.arange(-5, 5, 0.25)\n",
    "        X, Y = np.meshgrid(X, Y)\n",
    "        R = np.sqrt(X**2 + Y**2)\n",
    "        Z = np.sin(R)\n",
    "        return [ax.plot_surface(X, Y, Z, rstride=1, cstride=1, cmap=cm.viridis)]\n",
    "    \n",
    "    def animate(i):\n",
    "        setup_axes(ax)\n",
    "        t = t_0 + (i * interval / 1000)\n",
    "        X = np.arange(-7 + t, 7 + t, 0.25)\n",
    "        Y = np.arange(-7 + t, 7 + t, 0.25)\n",
    "        X, Y = np.meshgrid(X, Y)\n",
    "        R = np.sqrt(X**2 + Y**2)\n",
    "        Z = np.sin(R)\n",
    "        return [ax.plot_surface(X, Y, Z, rstride=1, cstride=1, cmap=cm.viridis)]\n",
    "        \n",
    "    anim = animation.FuncAnimation(figure, animate, init_func=init,\n",
    "                                   frames=duration_sec * (int)(1e3 / interval) + 1,\n",
    "                                   interval=interval,\n",
    "                                   blit=True)\n",
    "    rc('animation', html='html5')\n",
    "    HTML(anim.to_html5_video())\n",
    "    return anim\n",
    "\n",
    "animate_wave(6)"
   ]
  },
  {
   "cell_type": "code",
   "execution_count": null,
   "metadata": {},
   "outputs": [],
   "source": [
    "from datetime import datetime\n",
    "from matplotlib import pyplot\n",
    "from matplotlib.animation import FuncAnimation\n",
    "from random import randrange\n",
    "\n",
    "x_data, y_data = [], []\n",
    "\n",
    "figure = pyplot.figure()\n",
    "line, = pyplot.plot_date(x_data, y_data, '-')\n",
    "\n",
    "def update(frame):\n",
    "    x_data.append(datetime.now())\n",
    "    y_data.append(randrange(0, 100))\n",
    "    line.set_data(x_data, y_data)\n",
    "    figure.gca().relim()\n",
    "    figure.gca().autoscale_view()\n",
    "    return line,\n",
    "\n",
    "animation = FuncAnimation(figure, update, interval=100)\n",
    "\n",
    "rc('animation', html='html5')\n",
    "HTML(animation.to_html5_video())\n",
    "\n",
    "pyplot.show()\n",
    "\n",
    "animation"
   ]
  },
  {
   "cell_type": "code",
   "execution_count": 114,
   "metadata": {},
   "outputs": [],
   "source": []
  },
  {
   "cell_type": "code",
   "execution_count": 119,
   "metadata": {
    "scrolled": false
   },
   "outputs": [
    {
     "name": "stdout",
     "output_type": "stream",
     "text": [
      "[0.023]: initializing figure...\n",
      "[0.060]: running computations...\n",
      "[0.114]: drawing frames...\n"
     ]
    },
    {
     "name": "stderr",
     "output_type": "stream",
     "text": [
      "Traceback (most recent call last):\n",
      "  File \"/home/forrest2/Workspace/anaconda3/lib/python3.7/site-packages/matplotlib/cbook/__init__.py\", line 215, in process\n",
      "    func(*args, **kwargs)\n",
      "  File \"/home/forrest2/Workspace/anaconda3/lib/python3.7/site-packages/matplotlib/animation.py\", line 999, in _start\n",
      "    self._init_draw()\n",
      "  File \"/home/forrest2/Workspace/anaconda3/lib/python3.7/site-packages/matplotlib/animation.py\", line 1535, in _init_draw\n",
      "    for artist in f:\n",
      "TypeError: 'AxesImage' object is not iterable\n"
     ]
    },
    {
     "name": "stdout",
     "output_type": "stream",
     "text": [
      "[3.978]: piping frames to ffmpeg...\n",
      "[17.368]: closing pipe...\n",
      "[17.539]: done\n"
     ]
    },
    {
     "data": {
      "text/html": [
       "<video width=\"500px\" controls src=\"movie.mp4\" />"
      ],
      "text/plain": [
       "<IPython.core.display.HTML object>"
      ]
     },
     "execution_count": 119,
     "metadata": {},
     "output_type": "execute_result"
    },
    {
     "data": {
      "image/png": "[encoded data removed]",
      "text/plain": [
       "<Figure size 720x720 with 1 Axes>"
      ]
     },
     "metadata": {
      "image/png": {
       "height": 630,
       "width": 668
      },
      "needs_background": "light"
     },
     "output_type": "display_data"
    }
   ],
   "source": [
    "fps = 20\n",
    "\n",
    "def f(x, y):\n",
    "    return np.sin(x) + np.cos(y)\n",
    "\n",
    "def update_field(i):\n",
    "    t = (i * (1000/fps) / 1000)\n",
    "    dx = -np.sin(t)\n",
    "    dy = -dx\n",
    "    x = np.linspace(0 + dx, dx + 2 * np.pi, 120)\n",
    "    y = np.linspace(0 + dy, dy + 2 * np.pi, 120).reshape(-1, 1)\n",
    "    return f(x, y)\n",
    "\n",
    "def animate_field(len_sec=5):\n",
    "    fig, ax =  plt.subplots()\n",
    "    fig.set_size_inches(4, 4)\n",
    "    fig.set_dpi(180)\n",
    "    ax.set_xlim(0, 120)\n",
    "    ax.set_ylim(0, 120)\n",
    "    \n",
    "    def update(i):\n",
    "        ax.set_xlim(0, 120)\n",
    "        ax.set_ylim(0, 120)\n",
    "\n",
    "    mp_render(fig, ax, update_field, len_sec=len_sec, fps=fps, update=update)\n",
    "\n",
    "    return HTML('<video width=\"500px\" controls src=\"movie.mp4\" />')\n",
    "\n",
    "animate_field(10)"
   ]
  },
  {
   "cell_type": "code",
   "execution_count": 98,
   "metadata": {},
   "outputs": [
    {
     "name": "stdout",
     "output_type": "stream",
     "text": [
      "[0.021]: initializing figure...\n",
      "[0.051]: running computations...\n",
      "[0.073]: drawing frames...\n"
     ]
    },
    {
     "name": "stderr",
     "output_type": "stream",
     "text": [
      "Traceback (most recent call last):\n",
      "  File \"/home/forrest2/Workspace/anaconda3/lib/python3.7/site-packages/matplotlib/cbook/__init__.py\", line 215, in process\n",
      "    func(*args, **kwargs)\n",
      "  File \"/home/forrest2/Workspace/anaconda3/lib/python3.7/site-packages/matplotlib/animation.py\", line 999, in _start\n",
      "    self._init_draw()\n",
      "  File \"/home/forrest2/Workspace/anaconda3/lib/python3.7/site-packages/matplotlib/animation.py\", line 1535, in _init_draw\n",
      "    for artist in f:\n",
      "TypeError: 'Line2D' object is not iterable\n"
     ]
    },
    {
     "name": "stdout",
     "output_type": "stream",
     "text": [
      "[0.723]: piping frames to ffmpeg...\n",
      "[30.745]: closing pipe...\n",
      "[30.761]: done\n"
     ]
    },
    {
     "data": {
      "image/png": "[encoded data removed]",
      "text/plain": [
       "<Figure size 500x500 with 1 Axes>"
      ]
     },
     "metadata": {
      "image/png": {
       "height": 462,
       "width": 486
      },
      "needs_background": "light"
     },
     "output_type": "display_data"
    }
   ],
   "source": [
    "fps = 10\n",
    "\n",
    "def update_wave(i):\n",
    "    t = (i * (1000/fps) / 1000)\n",
    "    # times (x-axis)\n",
    "    xs = np.arange(t - 5, t + 10 - 5, 0.1)\n",
    "    # amplitudes\n",
    "    ys = np.sin(xs)\n",
    "    dx = 0\n",
    "    dy = 0\n",
    "    x = np.linspace(0 + dx, dx + 2 * np.pi, 100)\n",
    "    y = np.linspace(0 + dy, dy + 2 * np.pi, 100).reshape(-1, 1)\n",
    "    return xs,ys\n",
    "    \n",
    "def animate_wave(duration_sec=5):\n",
    "    figure, ax =  plt.subplots()\n",
    "    figure.set_size_inches(5, 5)\n",
    "    figure.set_dpi(100)\n",
    "    \n",
    "    def draw_wave(res):\n",
    "        xs,ys = res\n",
    "        return ax.plot(xs, ys, color='b')[0]\n",
    "        \n",
    "    def setup_axes(i):\n",
    "        ax.clear()\n",
    "        ax.set_title('Basic Wave')\n",
    "        ax.grid(True)\n",
    "        ax.set_ylabel('Amplitude')\n",
    "        ax.set_xlabel('Time')\n",
    "        ax.xaxis.set_major_formatter(tck.FormatStrFormatter('%g $\\pi$'))\n",
    "        ax.set_xlim(-10, 10)\n",
    "        ax.set_ylim(-2, 2)\n",
    "        \n",
    "    mp_render(figure, ax, update_wave, draw=draw_wave, fps=45, update=setup_axes)\n",
    "\n",
    "animate_wave(6)"
   ]
  },
  {
   "cell_type": "code",
   "execution_count": null,
   "metadata": {
    "scrolled": true
   },
   "outputs": [],
   "source": [
    "import subprocess\n",
    "import numpy as np\n",
    "import matplotlib.pyplot as plt\n",
    "import matplotlib.animation as animation\n",
    "import mpl_toolkits.mplot3d.axes3d as p3\n",
    "from IPython.display import HTML\n",
    "\n",
    "fig = plt.figure()\n",
    "ax1 = fig.add_subplot(1, 2, 1,projection=\"3d\")\n",
    "ax2 = fig.add_subplot(2, 2, 2)\n",
    "ax3 = fig.add_subplot(2, 2, 4)\n",
    "\n",
    "t = np.linspace(0, 80, 300)\n",
    "x = np.cos(2 * np.pi * t / 10.)\n",
    "y = np.sin(2 * np.pi * t / 10.)\n",
    "z = 10 * t\n",
    "\n",
    "ax1.set_xlabel('x')\n",
    "ax1.set_ylabel('y')\n",
    "ax1.set_zlabel('z')\n",
    "ax1.set_xlim(-1, 1)\n",
    "ax1.set_ylim(-1, 1)\n",
    "ax1.set_zlim(0, 800)\n",
    "\n",
    "ax2.set_xlabel('y')\n",
    "ax2.set_ylabel('z')\n",
    "ax2.set_xlim(-1, 1)\n",
    "ax2.set_ylim(0, 800)\n",
    "\n",
    "ax3.set_xlabel('x')\n",
    "ax3.set_ylabel('z')\n",
    "ax3.set_xlim(-1, 1)\n",
    "ax3.set_ylim(0, 800)\n",
    "\n",
    "lines = []\n",
    "for i in range(len(t)):\n",
    "    head = i - 1\n",
    "    head_slice = (t > t[i] - 1.0) & (t < t[i])\n",
    "    #print(x[head],y[head],z[head])\n",
    "    line1,  = ax1.plot(x[:i], y[:i], z[:i],\n",
    "                       color='black')\n",
    "    line1a, = ax1.plot(x[head_slice], y[head_slice], z[head_slice],\n",
    "                       color='red', linewidth=2)\n",
    "    line1e, = ax1.plot([x[head]], [y[head]], [z[head]],\n",
    "                       color='red', marker='o', markeredgecolor='r')\n",
    "    line2,  = ax2.plot(y[:i], z[:i],\n",
    "                       color='black')\n",
    "    line2a, = ax2.plot(y[head_slice], z[head_slice],\n",
    "                       color='red', linewidth=2)\n",
    "    line2e, = ax2.plot(y[head], z[head],\n",
    "                       color='red', marker='o', markeredgecolor='r')\n",
    "    line3,  = ax3.plot(x[:i], z[:i],\n",
    "                       color='black')\n",
    "    line3a, = ax3.plot(x[head_slice], z[head_slice],\n",
    "                       color='red', linewidth=2)\n",
    "    line3e, = ax3.plot(x[head], z[head],\n",
    "                       color='red', marker='o', markeredgecolor='r')\n",
    "    lines.append([line1,line1a,line1e,line2,line2a,line2e,line3,line3a,line3e])\n",
    "    \n",
    "plt.tight_layout()\n",
    "ani = animation.ArtistAnimation(fig, lines, interval=50, blit=True)\n",
    "\n",
    "fn = 'line_animation_3d_with_two_2d_artistanimation'\n",
    "ani.save('%s.mp4'%(fn), writer='ffmpeg',fps=1000/50)\n",
    "# ani.save('%s.gif'%(fn), writer='imagemagick',fps=1000/50)\n",
    "\n",
    "# cmd = f\"ffmpeg -i {fn}.mp4 -vf fps=30 -r 30 jupiter.gif\"\n",
    "# subprocess.check_output(cmd)\n",
    "\n",
    "plt.rcParams['animation.html'] = 'html5'\n",
    "ani"
   ]
  },
  {
   "cell_type": "markdown",
   "metadata": {},
   "source": [
    "<video controls src=\"movie.mp4\" />"
   ]
  },
  {
   "cell_type": "code",
   "execution_count": null,
   "metadata": {},
   "outputs": [],
   "source": []
  }
 ],
 "metadata": {
  "kernelspec": {
   "display_name": "Python 3",
   "language": "python",
   "name": "python3"
  },
  "language_info": {
   "codemirror_mode": {
    "name": "ipython",
    "version": 3
   },
   "file_extension": ".py",
   "mimetype": "text/x-python",
   "name": "python",
   "nbconvert_exporter": "python",
   "pygments_lexer": "ipython3",
   "version": "3.7.1"
  }
 },
 "nbformat": 4,
 "nbformat_minor": 2
}
